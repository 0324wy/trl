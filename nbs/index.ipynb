{
 "cells": [
  {
   "cell_type": "code",
   "execution_count": null,
   "metadata": {},
   "outputs": [],
   "source": [
    "#hide\n",
    "from lm_ppo.core import *"
   ]
  },
  {
   "cell_type": "markdown",
   "metadata": {},
   "source": [
    "# lm_ppo: Language modeling with PPO\n",
    "\n",
    "> A Pytorch implementation of Proximal Policy Optimization for transfomer language models."
   ]
  },
  {
   "cell_type": "markdown",
   "metadata": {},
   "source": [
    "## What is it?\n",
    "The library `lm_ppo` one can fine-tune transformer language models with Proximal Policy Optimization (PPO). The library is built with the `transformer` library by  🤗Huggingface. Therefore, one can load pre-trained language models directly via the transformer interface."
   ]
  },
  {
   "cell_type": "markdown",
   "metadata": {},
   "source": [
    "## How it works\n",
    "Fine-tuning a language model via PPO consists of roughly three steps:\n",
    "\n",
    "1. **Rollout**: The language model generates a response or continuation based on query which could be the start of a sentence.\n",
    "2. **Evaluation**: The query and response are evaluated with a function, model, human feedback or some combination of them. The important thing is that this process should yield a scalar value for each query/response pair.\n",
    "3. **Optimization**: This is the most complex part. In the optimisation step the query/response pairs are used to calculate the log-probabilities of the tokens in the sequences. This is done with the model that is trained and and a reference model, which is usually the pre-trained model before fine-tuning. The KL-divergence between the two outputs is used as an additional reward signal to make sure the generated responses don't deviate to far from the reference language model. The active language model is then trained with PPO.\n",
    "\n",
    "This process is illustrated in the sketch below:\n",
    "\n",
    "![Overview](images/lm_ppo_overview.png)"
   ]
  },
  {
   "cell_type": "markdown",
   "metadata": {},
   "source": [
    "## Install"
   ]
  },
  {
   "cell_type": "markdown",
   "metadata": {},
   "source": [
    "Install the library with pip:\n",
    "\n",
    "`pip install lm_ppo`\n",
    "\n",
    "If you want to run the example a few additional libraries are required. Clone the repository and install it with pip:\n",
    "\n",
    "`pip install -r requirements.txt`"
   ]
  },
  {
   "cell_type": "markdown",
   "metadata": {},
   "source": [
    "## How to use"
   ]
  },
  {
   "cell_type": "markdown",
   "metadata": {},
   "source": [
    "### Basic example\n",
    "This is a basic example on how to use the library. Based on a query the language model creates a response which is then evaluated. The evaluation could be a human in the loop or another model's output."
   ]
  },
  {
   "cell_type": "code",
   "execution_count": null,
   "metadata": {},
   "outputs": [
    {
     "data": {
      "text/plain": [
       "2"
      ]
     },
     "execution_count": null,
     "metadata": {},
     "output_type": "execute_result"
    }
   ],
   "source": [
    "# imports\n",
    "import torch\n",
    "from transformers import GPT2Tokenizer\n",
    "from lm_ppo.gpt2 import GPT2HeadWithValueModel, respond_to_batch\n",
    "from lm_ppo.ppo import PPOTrainer\n",
    "\n",
    "# get models\n",
    "gpt2_model = GPT2HeadWithValueModel.from_pretrained('gpt2')\n",
    "gpt2_model_ref = GPT2HeadWithValueModel.from_pretrained('gpt2')\n",
    "gpt2_tokenizer = GPT2Tokenizer.from_pretrained('gpt2')\n",
    "\n",
    "# initialize trainer\n",
    "ppo_config = {'batch_size': 1, 'forward_batch_size': 1}\n",
    "ppo_trainer = PPOTrainer(gpt2_model, gpt2_model_ref, **ppo_config)\n",
    "\n",
    "# encode a query\n",
    "query_txt = \"This morning I went to the \"\n",
    "query_tensor = gpt2_tokenizer.encode(query_txt, return_tensors=\"pt\")\n",
    "\n",
    "# get model response\n",
    "response_tensor  = respond_to_batch(gpt2_model, query_tensor, pad_token_id=gpt2_tokenizer.eos_token_id)\n",
    "response_txt = gpt2_tokenizer.decode(response_tensor[0,:])\n",
    "\n",
    "# define a reward for response\n",
    "reward = torch.tensor([1.0]) # this could be any reward such as a human or another model\n",
    "\n",
    "# train model with ppo\n",
    "train_stats = ppo_trainer.step(query_tensor, response_tensor, reward)"
   ]
  },
  {
   "cell_type": "markdown",
   "metadata": {},
   "source": [
    "### Advanced example: IMDB sentiment\n",
    "For a detailed example check out the notebook `nbs/04-gpt2-sentiment-training.ipynb`, where GPT2 is fine-tuned to generate positive movie reviews. An few examples from the language models before and after optimisation are given below:\n",
    "\n",
    "![Overview](images/table_imdb_preview.png)"
   ]
  },
  {
   "cell_type": "markdown",
   "metadata": {},
   "source": [
    "## Reference\n",
    "\n",
    "### Proximal Policy Optimisation\n",
    "The PPO implementation largely follows the structure introduced in the paper **\"Fine-Tuning Language Models from Human Preferences\"** by D. Ziegler et al. \\[[paper](https://arxiv.org/pdf/1909.08593.pdf), [code](https://github.com/openai/lm-human-preferences)].\n",
    "\n",
    "### Language models\n",
    "The language models utilize the `transformer` library by 🤗Huggingface."
   ]
  },
  {
   "cell_type": "code",
   "execution_count": null,
   "metadata": {},
   "outputs": [],
   "source": []
  }
 ],
 "metadata": {
  "kernelspec": {
   "display_name": "Python 3",
   "language": "python",
   "name": "python3"
  }
 },
 "nbformat": 4,
 "nbformat_minor": 4
}
